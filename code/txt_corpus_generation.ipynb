{
 "cells": [
  {
   "cell_type": "code",
   "execution_count": 1,
   "metadata": {},
   "outputs": [
    {
     "name": "stderr",
     "output_type": "stream",
     "text": [
      "b'Skipping line 2135: expected 10 fields, saw 20\\nSkipping line 8047: expected 10 fields, saw 13\\nSkipping line 28182: expected 10 fields, saw 11\\nSkipping line 39462: expected 10 fields, saw 23\\nSkipping line 39730: expected 10 fields, saw 11\\nSkipping line 41492: expected 10 fields, saw 21\\nSkipping line 57597: expected 10 fields, saw 15\\nSkipping line 61912: expected 10 fields, saw 23\\n'\n",
      "b'Skipping line 66692: expected 10 fields, saw 21\\nSkipping line 94232: expected 10 fields, saw 12\\nSkipping line 100166: expected 10 fields, saw 30\\nSkipping line 124742: expected 10 fields, saw 18\\n'\n",
      "b'Skipping line 138612: expected 10 fields, saw 24\\n'\n",
      "/Users/Lin/opt/anaconda3/envs/pDL/lib/python3.8/site-packages/IPython/core/interactiveshell.py:3062: DtypeWarning: Columns (4) have mixed types.Specify dtype option on import or set low_memory=False.\n",
      "  has_raised = await self.run_ast_nodes(code_ast.body, cell_name,\n"
     ]
    }
   ],
   "source": [
    "import pandas as pd\n",
    "df_news = pd.read_csv('../data/new_beijing_news_clean.csv', error_bad_lines=False)"
   ]
  },
  {
   "cell_type": "code",
   "execution_count": 2,
   "metadata": {},
   "outputs": [],
   "source": [
    "documents = df_news['content']\n",
    "n = 1000"
   ]
  },
  {
   "cell_type": "code",
   "execution_count": 3,
   "metadata": {},
   "outputs": [],
   "source": [
    "file1 = open(\"../data/documents_first_\"+ str(n) + \".txt\",\"w\")\n",
    "count = 0\n",
    "for document in documents:\n",
    "    if type(document) == str:\n",
    "        file1.write(document + \"\\n\")\n",
    "        count += 1\n",
    "        if count == n:\n",
    "            break\n",
    "file1.close()"
   ]
  },
  {
   "cell_type": "code",
   "execution_count": null,
   "metadata": {},
   "outputs": [],
   "source": []
  }
 ],
 "metadata": {
  "kernelspec": {
   "display_name": "Python [conda env:pDL] *",
   "language": "python",
   "name": "conda-env-pDL-py"
  },
  "language_info": {
   "codemirror_mode": {
    "name": "ipython",
    "version": 3
   },
   "file_extension": ".py",
   "mimetype": "text/x-python",
   "name": "python",
   "nbconvert_exporter": "python",
   "pygments_lexer": "ipython3",
   "version": "3.8.1"
  }
 },
 "nbformat": 4,
 "nbformat_minor": 4
}
