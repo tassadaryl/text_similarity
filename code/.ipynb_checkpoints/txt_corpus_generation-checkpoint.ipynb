{
 "cells": [
  {
   "cell_type": "code",
   "execution_count": 1,
   "metadata": {},
   "outputs": [
    {
     "name": "stderr",
     "output_type": "stream",
     "text": [
      "b'Skipping line 2135: expected 10 fields, saw 20\\nSkipping line 8047: expected 10 fields, saw 13\\nSkipping line 28182: expected 10 fields, saw 11\\nSkipping line 39462: expected 10 fields, saw 23\\nSkipping line 39730: expected 10 fields, saw 11\\nSkipping line 41492: expected 10 fields, saw 21\\nSkipping line 57597: expected 10 fields, saw 15\\nSkipping line 61912: expected 10 fields, saw 23\\n'\n",
      "b'Skipping line 66692: expected 10 fields, saw 21\\nSkipping line 94232: expected 10 fields, saw 12\\nSkipping line 100166: expected 10 fields, saw 30\\nSkipping line 124742: expected 10 fields, saw 18\\n'\n",
      "b'Skipping line 138612: expected 10 fields, saw 24\\n'\n",
      "/Users/Lin/opt/anaconda3/envs/pDL/lib/python3.8/site-packages/IPython/core/interactiveshell.py:3062: DtypeWarning: Columns (4) have mixed types.Specify dtype option on import or set low_memory=False.\n",
      "  has_raised = await self.run_ast_nodes(code_ast.body, cell_name,\n"
     ]
    }
   ],
   "source": [
    "import pandas as pd\n",
    "df_news = pd.read_csv('../data/new_beijing_news_clean.csv', error_bad_lines=False)"
   ]
  },
  {
   "cell_type": "code",
   "execution_count": 2,
   "metadata": {},
   "outputs": [],
   "source": [
    "documents = df_news['content']"
   ]
  },
  {
   "cell_type": "code",
   "execution_count": 3,
   "metadata": {},
   "outputs": [
    {
     "data": {
      "text/plain": [
       "(151061,)"
      ]
     },
     "execution_count": 3,
     "metadata": {},
     "output_type": "execute_result"
    }
   ],
   "source": [
    "documents.shape"
   ]
  },
  {
   "cell_type": "code",
   "execution_count": 15,
   "metadata": {},
   "outputs": [
    {
     "name": "stdout",
     "output_type": "stream",
     "text": [
      "# not str:  51\n",
      "# None:  0\n"
     ]
    }
   ],
   "source": [
    "sum = 0\n",
    "sum_none = 0\n",
    "for document in documents:\n",
    "    if not type(document) == str:\n",
    "        sum += 1\n",
    "    if document == None:\n",
    "        sum_none += 1\n",
    "print(\"# not str: \", sum)\n",
    "print(\"# None: \", sum_none)"
   ]
  },
  {
   "cell_type": "code",
   "execution_count": 34,
   "metadata": {},
   "outputs": [],
   "source": [
    "file1 = open(\"../data/documents1.txt\",\"w\")\n",
    "for document in documents:\n",
    "    if type(document) == str:\n",
    "        file1.write(document + \"\\n\")\n",
    "file1.close()"
   ]
  },
  {
   "cell_type": "code",
   "execution_count": 35,
   "metadata": {},
   "outputs": [],
   "source": [
    "file = open(\"../data/documents1.txt\",\"r\")"
   ]
  },
  {
   "cell_type": "code",
   "execution_count": 36,
   "metadata": {},
   "outputs": [],
   "source": [
    "lines = file.readlines()"
   ]
  },
  {
   "cell_type": "code",
   "execution_count": 39,
   "metadata": {},
   "outputs": [
    {
     "data": {
      "text/plain": [
       "152904"
      ]
     },
     "execution_count": 39,
     "metadata": {},
     "output_type": "execute_result"
    }
   ],
   "source": [
    "len(lines)"
   ]
  },
  {
   "cell_type": "code",
   "execution_count": 44,
   "metadata": {},
   "outputs": [
    {
     "data": {
      "text/plain": [
       "'【中国平安首次跻身万亿营收俱乐部】据统计，2019年A股上市公司实现总营收50.54万亿元，占全国GDP总量的半壁江山，同比增速9.54%，较前两年放缓。营收百强公司累计贡献了全部A股上市公司总营收的近六成。万亿营收俱乐部成员增至四家，中国平安首次跻身其中。（证券时报）\\n'"
      ]
     },
     "execution_count": 44,
     "metadata": {},
     "output_type": "execute_result"
    }
   ],
   "source": [
    "lines[2000]"
   ]
  },
  {
   "cell_type": "code",
   "execution_count": null,
   "metadata": {},
   "outputs": [],
   "source": [
    "file2 = open(\"../data/documents_first_50.txt\",\"w\")\n",
    "count = 0\n",
    "for document in documents:\n",
    "    if type(document) == str:\n",
    "        file1.write(document + \"\\n\")\n",
    "        count += 1\n",
    "        if count == 50\n",
    "file1.close()"
   ]
  }
 ],
 "metadata": {
  "kernelspec": {
   "display_name": "Python [conda env:pDL] *",
   "language": "python",
   "name": "conda-env-pDL-py"
  },
  "language_info": {
   "codemirror_mode": {
    "name": "ipython",
    "version": 3
   },
   "file_extension": ".py",
   "mimetype": "text/x-python",
   "name": "python",
   "nbconvert_exporter": "python",
   "pygments_lexer": "ipython3",
   "version": "3.8.1"
  }
 },
 "nbformat": 4,
 "nbformat_minor": 4
}
